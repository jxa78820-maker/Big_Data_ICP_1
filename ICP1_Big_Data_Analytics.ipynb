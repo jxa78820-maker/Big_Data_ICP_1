{
  "nbformat": 4,
  "nbformat_minor": 0,
  "metadata": {
    "colab": {
      "provenance": [],
      "authorship_tag": "ABX9TyPBzLtZddcrc3Ydfl+N/dBb",
      "include_colab_link": true
    },
    "kernelspec": {
      "name": "python3",
      "display_name": "Python 3"
    },
    "language_info": {
      "name": "python"
    }
  },
  "cells": [
    {
      "cell_type": "markdown",
      "metadata": {
        "id": "view-in-github",
        "colab_type": "text"
      },
      "source": [
        "<a href=\"https://colab.research.google.com/github/jxa78820-maker/Big_Data_ICP_1/blob/main/ICP1_Big_Data_Analytics.ipynb\" target=\"_parent\"><img src=\"https://colab.research.google.com/assets/colab-badge.svg\" alt=\"Open In Colab\"/></a>"
      ]
    },
    {
      "cell_type": "code",
      "execution_count": null,
      "metadata": {
        "id": "CCnEoPj7TFm_"
      },
      "outputs": [],
      "source": [
        "from google.colab import drive\n",
        "drive.mount('/content/drive')\n"
      ]
    },
    {
      "cell_type": "code",
      "source": [
        "# Input as list\n",
        "chars = list(input(\"Enter the word (e.g., Python): \"))\n",
        "# Delete two characters (let's say index 1 and 3)\n",
        "del chars[1]\n",
        "del chars[2]\n",
        "# Reverse and print\n",
        "chars.reverse()\n",
        "print(\"\".join(chars))\n",
        "\n"
      ],
      "metadata": {
        "id": "jq2QbH2gU29A"
      },
      "execution_count": null,
      "outputs": []
    },
    {
      "cell_type": "code",
      "source": [
        "a = float(input(\"Enter first number: \"))\n",
        "b = float(input(\"Enter second number: \"))\n",
        "print(f\"Addition: {a + b}\")\n",
        "print(f\"Subtraction: {a - b}\")\n",
        "print(f\"Multiplication: {a * b}\")\n",
        "print(f\"Division: {a / b if b != 0 else 'Undefined'}\")\n"
      ],
      "metadata": {
        "id": "6rF_B-1jU4R-"
      },
      "execution_count": null,
      "outputs": []
    },
    {
      "cell_type": "code",
      "source": [
        "sentence = input(\"Enter a sentence: \")\n",
        "new_sentence = sentence.replace(\"python\", \"pythons\")\n",
        "print(new_sentence)\n"
      ],
      "metadata": {
        "id": "RtATxvCFU6N_"
      },
      "execution_count": null,
      "outputs": []
    },
    {
      "cell_type": "code",
      "source": [
        "score = float(input(\"Enter your score: \"))\n",
        "if score >= 90:\n",
        "    grade = 'A'\n",
        "elif score >= 80:\n",
        "    grade = 'B'\n",
        "elif score >= 70:\n",
        "    grade = 'C'\n",
        "elif score >= 60:\n",
        "    grade = 'D'\n",
        "else:\n",
        "    grade = 'F'\n",
        "print(f\"Your grade: {grade}\")\n"
      ],
      "metadata": {
        "id": "Nw8mCK0OU-ZQ",
        "colab": {
          "base_uri": "https://localhost:8080/"
        },
        "outputId": "0c2d31ea-12a0-4a0c-f06a-33a4173677d6"
      },
      "execution_count": 6,
      "outputs": [
        {
          "output_type": "stream",
          "name": "stdout",
          "text": [
            "Your grade: A\n"
          ]
        }
      ]
    },
    {
      "cell_type": "code",
      "source": [
        "x = [23, 'Python', 23.98]\n",
        "types = [type(i) for i in x]\n",
        "print(x)\n",
        "print(types)\n"
      ],
      "metadata": {
        "colab": {
          "base_uri": "https://localhost:8080/"
        },
        "id": "WghaR69CU_Wv",
        "outputId": "c8a5358f-097a-469d-8b41-bf61abc2e513"
      },
      "execution_count": null,
      "outputs": [
        {
          "output_type": "stream",
          "name": "stdout",
          "text": [
            "[23, 'Python', 23.98]\n",
            "[<class 'int'>, <class 'str'>, <class 'float'>]\n"
          ]
        }
      ]
    },
    {
      "cell_type": "code",
      "source": [
        "IT_companies = {'Facebook', 'Google', 'Microsoft', 'Apple', 'IBM', 'Oracle', 'Amazon'}\n",
        "A = {19, 22, 24, 20, 25, 26}\n",
        "B = {19, 22, 20, 25, 26, 24, 28, 27}\n",
        "age = [22, 19, 24, 25, 26, 24, 25, 24]\n",
        "\n",
        "print(\"Length:\", len(IT_companies))\n",
        "\n",
        "# Add Twitter\n",
        "IT_companies.add(\"Twitter\")\n",
        "\n",
        "# Insert multiple\n",
        "IT_companies.update([\"Tesla\", \"Netflix\"])\n",
        "\n",
        "# Remove one\n",
        "IT_companies.remove(\"IBM\")  # Raises error if not found\n",
        "\n",
        "# Difference between remove and discard\n",
        "# remove() raises an error if the element doesn't exist, discard() doesn't\n",
        "\n",
        "# Join A and B\n",
        "C = A.union(B)\n",
        "print(\"Union:\", C)\n",
        "\n",
        "# Intersection\n",
        "print(\"Intersection:\", A.intersection(B))\n",
        "\n",
        "# Subset\n",
        "print(\"Is A subset of B?\", A.issubset(B))\n",
        "\n",
        "# Disjoint\n",
        "print(\"Are A and B disjoint?\", A.isdisjoint(B))\n",
        "\n",
        "# Join A with B and B with A\n",
        "print(\"A union B:\", A.union(B))\n",
        "print(\"B union A:\", B.union(A))\n",
        "\n",
        "# Symmetric difference\n",
        "print(\"Symmetric difference:\", A.symmetric_difference(B))\n",
        "\n",
        "# Delete sets\n",
        "del A\n",
        "del B\n",
        "\n",
        "# Convert age to set\n",
        "age_set = set(age)\n",
        "print(\"List length:\", len(age))\n",
        "print(\"Set length:\", len(age_set))\n"
      ],
      "metadata": {
        "colab": {
          "base_uri": "https://localhost:8080/"
        },
        "id": "g6xrdO3aVEWB",
        "outputId": "df2ab8ff-b88f-4d8a-a68d-afe48e30e504"
      },
      "execution_count": null,
      "outputs": [
        {
          "output_type": "stream",
          "name": "stdout",
          "text": [
            "Length: 7\n",
            "Union: {19, 20, 22, 24, 25, 26, 27, 28}\n",
            "Intersection: {19, 20, 22, 24, 25, 26}\n",
            "Is A subset of B? True\n",
            "Are A and B disjoint? False\n",
            "A union B: {19, 20, 22, 24, 25, 26, 27, 28}\n",
            "B union A: {19, 20, 22, 24, 25, 26, 27, 28}\n",
            "Symmetric difference: {27, 28}\n",
            "List length: 8\n",
            "Set length: 5\n"
          ]
        }
      ]
    }
  ]
}